{
  "nbformat": 4,
  "nbformat_minor": 0,
  "metadata": {
    "colab": {
      "provenance": []
    },
    "kernelspec": {
      "name": "python3",
      "display_name": "Python 3"
    },
    "language_info": {
      "name": "python"
    }
  },
  "cells": [
    {
      "cell_type": "code",
      "execution_count": null,
      "metadata": {
        "colab": {
          "base_uri": "https://localhost:8080/"
        },
        "id": "xp0fgfWzZVsC",
        "outputId": "9ceb4bcc-4f22-4e1a-c608-ff3068adc9a0"
      },
      "outputs": [
        {
          "output_type": "stream",
          "name": "stdout",
          "text": [
            "Digite o primeiro Número: 5\n",
            "Digite a operação (+,-,*,/)+\n",
            "Digite o segundo Número: 20\n",
            "25.0\n"
          ]
        }
      ],
      "source": [
        "#  Calculadora simples\n",
        "\n",
        "num1 = float(input(\"Digite o primeiro Número: \"))\n",
        "operação = input(\"Digite a operação (+,-,*,/)\")\n",
        "num2 = float(input(\"Digite o segundo Número: \"))\n",
        "\n",
        "if operação ==\"+\":\n",
        "  print(num1 + num2)\n",
        "elif operação == \"-\":\n",
        "  print(num1 - num2)\n",
        "elif operação == \"*\":\n",
        "  print(num1 * num2)\n",
        "elif operação == \"/\":\n",
        "  print(num1 / num2)\n",
        "  if num2 == 0:\n",
        "    print(\"Não é possivel dividir por 0\")\n",
        "else:\n",
        "  print(\"Operçao Invalida\")\n",
        "\n",
        "\n",
        "\n",
        "\n",
        "\n",
        "\n",
        "\n"
      ]
    },
    {
      "cell_type": "code",
      "source": [],
      "metadata": {
        "id": "IEiLHPdwmy4I"
      },
      "execution_count": null,
      "outputs": []
    }
  ]
}